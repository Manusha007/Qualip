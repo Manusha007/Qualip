{
 "cells": [
  {
   "cell_type": "code",
   "execution_count": 1,
   "metadata": {},
   "outputs": [],
   "source": [
    "import cv2\n",
    "import numpy as np"
   ]
  },
  {
   "cell_type": "code",
   "execution_count": 2,
   "metadata": {},
   "outputs": [],
   "source": [
    "from keras.models import load_model"
   ]
  },
  {
   "cell_type": "code",
   "execution_count": 3,
   "metadata": {},
   "outputs": [],
   "source": [
    "class_names = ['Shoes', 'Damage_Shoes']\n",
    "width = 96\n",
    "height = 96"
   ]
  },
  {
   "cell_type": "code",
   "execution_count": 4,
   "metadata": {},
   "outputs": [],
   "source": [
    "model = load_model('shoe_cnn_model.h5')"
   ]
  },
  {
   "cell_type": "code",
   "execution_count": 5,
   "metadata": {},
   "outputs": [
    {
     "name": "stdout",
     "output_type": "stream",
     "text": [
      "Model: \"sequential\"\n",
      "_________________________________________________________________\n",
      "Layer (type)                 Output Shape              Param #   \n",
      "=================================================================\n",
      "conv2d (Conv2D)              (None, 94, 94, 16)        448       \n",
      "_________________________________________________________________\n",
      "max_pooling2d (MaxPooling2D) (None, 47, 47, 16)        0         \n",
      "_________________________________________________________________\n",
      "dropout (Dropout)            (None, 47, 47, 16)        0         \n",
      "_________________________________________________________________\n",
      "conv2d_1 (Conv2D)            (None, 45, 45, 32)        4640      \n",
      "_________________________________________________________________\n",
      "max_pooling2d_1 (MaxPooling2 (None, 22, 22, 32)        0         \n",
      "_________________________________________________________________\n",
      "dropout_1 (Dropout)          (None, 22, 22, 32)        0         \n",
      "_________________________________________________________________\n",
      "flatten (Flatten)            (None, 15488)             0         \n",
      "_________________________________________________________________\n",
      "dense (Dense)                (None, 1024)              15860736  \n",
      "_________________________________________________________________\n",
      "dropout_2 (Dropout)          (None, 1024)              0         \n",
      "_________________________________________________________________\n",
      "dense_1 (Dense)              (None, 512)               524800    \n",
      "_________________________________________________________________\n",
      "dropout_3 (Dropout)          (None, 512)               0         \n",
      "_________________________________________________________________\n",
      "dense_2 (Dense)              (None, 2)                 1026      \n",
      "=================================================================\n",
      "Total params: 16,391,650\n",
      "Trainable params: 16,391,650\n",
      "Non-trainable params: 0\n",
      "_________________________________________________________________\n"
     ]
    }
   ],
   "source": [
    "model.summary()"
   ]
  },
  {
   "cell_type": "code",
   "execution_count": 7,
   "metadata": {},
   "outputs": [],
   "source": [
    "import time\n",
    "\n",
    "#get references to the webcam,\n",
    "camera = cv2.VideoCapture(0)\n",
    "camera_height = 500\n",
    "\n",
    "while(True):\n",
    "    \n",
    "    #read new frame\n",
    "    _, frame = camera.read()\n",
    "    \n",
    "    #flip frame\n",
    "    frame = cv2.flip(frame, 1)\n",
    "    \n",
    "    #rescaling cam outout\n",
    "    aspect = frame.shape[1] / float(frame.shape[0])\n",
    "    res = int(aspect * camera_height)\n",
    "    frame = cv2.resize(frame,(res,camera_height))\n",
    "                    \n",
    "    #add rectangle\n",
    "    cv2.rectangle(frame,(300,75),(650,425),(240,100,0),2)\n",
    "    \n",
    "                    \n",
    "    #get ROI\n",
    "    roi = frame[75+2:425-2, 300+2:650-2]\n",
    "    \n",
    "    #parse BRG to RGB\n",
    "    roi = cv2.cvtColor(roi, cv2.COLOR_BGR2RGB)\n",
    "                    \n",
    "    #reseze to 224*224\n",
    "    roi = cv2.resize(roi,(width,height))\n",
    "   \n",
    "    \n",
    "    #predict\n",
    "    roi_x = np.expand_dims(roi, axis=0)\n",
    "                    \n",
    "    predictions = model.predict(roi_x)\n",
    "                    \n",
    "    shoetype_1_pred, shoetype_2_pred = predictions[0]\n",
    "                    \n",
    "    #add text\n",
    "    shoetype_1_text ='{}: {}%'.format(class_names[0], int(shoetype_1_pred*100))\n",
    "    cv2.putText(frame, shoetype_1_text,(70,170),\n",
    "               cv2.FONT_HERSHEY_SIMPLEX, 0.6,(240,240,240),2)\n",
    "    \n",
    "    #add text\n",
    "    shoetype_2_text ='{}: {}%'.format(class_names[1], int(shoetype_2_pred*100))\n",
    "    cv2.putText(frame, shoetype_2_text,(70,200),\n",
    "               cv2.FONT_HERSHEY_SIMPLEX, 0.6,(240,240,240),2)\n",
    "                    \n",
    "    #show the frame\n",
    "    cv2.imshow(\"Test Out\", frame)\n",
    "    key = cv2.waitKey(1)\n",
    "                    \n",
    "    #quit cam pressing by 'q'\n",
    "    if key & 0xFF == ord('q'):\n",
    "        break\n",
    "                    \n",
    "camera.release()\n",
    "cv2.destroyAllWindows()"
   ]
  },
  {
   "cell_type": "code",
   "execution_count": null,
   "metadata": {},
   "outputs": [],
   "source": []
  }
 ],
 "metadata": {
  "kernelspec": {
   "display_name": "Python 3",
   "language": "python",
   "name": "python3"
  },
  "language_info": {
   "codemirror_mode": {
    "name": "ipython",
    "version": 3
   },
   "file_extension": ".py",
   "mimetype": "text/x-python",
   "name": "python",
   "nbconvert_exporter": "python",
   "pygments_lexer": "ipython3",
   "version": "3.8.5"
  }
 },
 "nbformat": 4,
 "nbformat_minor": 4
}
